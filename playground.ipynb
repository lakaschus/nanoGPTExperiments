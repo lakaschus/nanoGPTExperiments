{
 "cells": [
  {
   "cell_type": "code",
   "execution_count": 11,
   "metadata": {},
   "outputs": [],
   "source": [
    "import torch\n",
    "\n",
    "def mask_weights(weight_matrix, top_percentile=0.2):\n",
    "    # Filter out all weights in the weight matrix that are not in the top 10% of the weight matrix\n",
    "    filter_val = torch.topk(weight_matrix.flatten(), int(weight_matrix.numel() * top_percentile))[0][-1]\n",
    "    new_matrix = torch.where(weight_matrix > filter_val, weight_matrix, 0)\n",
    "    return new_matrix\n",
    "    "
   ]
  },
  {
   "cell_type": "code",
   "execution_count": 12,
   "metadata": {},
   "outputs": [
    {
     "data": {
      "text/plain": [
       "tensor([[[-0.1158, -1.2381],\n",
       "         [ 0.6842,  0.8513],\n",
       "         [ 0.2962, -0.1402],\n",
       "         [-1.1675, -0.5217]],\n",
       "\n",
       "        [[-1.1434, -1.3842],\n",
       "         [ 0.7812, -1.4463],\n",
       "         [ 0.5592,  0.5269],\n",
       "         [-0.0426, -1.2808]],\n",
       "\n",
       "        [[-2.7075,  1.1356],\n",
       "         [ 0.5800, -0.2868],\n",
       "         [ 0.1328, -2.5898],\n",
       "         [ 1.3753, -0.3425]],\n",
       "\n",
       "        [[-0.7770,  0.1094],\n",
       "         [-0.6055, -0.7583],\n",
       "         [-1.1678, -0.3678],\n",
       "         [ 0.8142,  1.3299]]])"
      ]
     },
     "execution_count": 12,
     "metadata": {},
     "output_type": "execute_result"
    }
   ],
   "source": [
    "mat = torch.randn(4, 4, 2)\n",
    "mat"
   ]
  },
  {
   "cell_type": "code",
   "execution_count": 13,
   "metadata": {},
   "outputs": [
    {
     "data": {
      "text/plain": [
       "tensor([[[0.0000, 0.0000],\n",
       "         [0.0000, 0.8513],\n",
       "         [0.0000, 0.0000],\n",
       "         [0.0000, 0.0000]],\n",
       "\n",
       "        [[0.0000, 0.0000],\n",
       "         [0.0000, 0.0000],\n",
       "         [0.0000, 0.0000],\n",
       "         [0.0000, 0.0000]],\n",
       "\n",
       "        [[0.0000, 1.1356],\n",
       "         [0.0000, 0.0000],\n",
       "         [0.0000, 0.0000],\n",
       "         [1.3753, 0.0000]],\n",
       "\n",
       "        [[0.0000, 0.0000],\n",
       "         [0.0000, 0.0000],\n",
       "         [0.0000, 0.0000],\n",
       "         [0.8142, 1.3299]]])"
      ]
     },
     "execution_count": 13,
     "metadata": {},
     "output_type": "execute_result"
    }
   ],
   "source": [
    "mask_weights(mat)"
   ]
  },
  {
   "cell_type": "code",
   "execution_count": null,
   "metadata": {},
   "outputs": [],
   "source": [
    "# Using python and pytorch, how can I filter out all values from a tensor that are smaller than the smallest value in the range of the top 10% largest values?"
   ]
  }
 ],
 "metadata": {
  "kernelspec": {
   "display_name": "NLP_SOTA",
   "language": "python",
   "name": "python3"
  },
  "language_info": {
   "codemirror_mode": {
    "name": "ipython",
    "version": 3
   },
   "file_extension": ".py",
   "mimetype": "text/x-python",
   "name": "python",
   "nbconvert_exporter": "python",
   "pygments_lexer": "ipython3",
   "version": "3.9.16"
  },
  "orig_nbformat": 4,
  "vscode": {
   "interpreter": {
    "hash": "3fbe9b32f5c346203009b906f522fd4c71d7bab1e588d73746188ff071b344e8"
   }
  }
 },
 "nbformat": 4,
 "nbformat_minor": 2
}
